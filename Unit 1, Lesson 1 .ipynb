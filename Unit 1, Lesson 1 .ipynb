{
 "cells": [
  {
   "cell_type": "code",
   "execution_count": 6,
   "metadata": {
    "collapsed": true
   },
   "outputs": [],
   "source": [
    "# Ted Leo and the Pharmacits record labels."
   ]
  },
  {
   "cell_type": "code",
   "execution_count": 5,
   "metadata": {
    "collapsed": false
   },
   "outputs": [
    {
     "name": "stdout",
     "output_type": "stream",
     "text": [
      "Touch and Go Records\n"
     ]
    }
   ],
   "source": [
    "year =  2007\n",
    "\n",
    "if year >= 2001 and year <= 2006:\n",
    "    print('Lookout Records')\n",
    "elif year >= 2007 and year <= 2009:\n",
    "    print('Touch and Go Records')\n",
    "else:\n",
    "    print('Matador Records')\n"
   ]
  },
  {
   "cell_type": "code",
   "execution_count": 7,
   "metadata": {
    "collapsed": true
   },
   "outputs": [],
   "source": [
    "# All of the numbers less than 100, divisible by 3. "
   ]
  },
  {
   "cell_type": "code",
   "execution_count": 22,
   "metadata": {
    "collapsed": false
   },
   "outputs": [
    {
     "name": "stdout",
     "output_type": "stream",
     "text": [
      "3\n",
      "6\n",
      "9\n",
      "12\n",
      "15\n",
      "18\n",
      "21\n",
      "24\n",
      "27\n",
      "30\n",
      "33\n",
      "36\n",
      "39\n",
      "42\n",
      "45\n",
      "48\n",
      "51\n",
      "54\n",
      "57\n",
      "60\n",
      "63\n",
      "66\n",
      "69\n",
      "72\n",
      "75\n",
      "78\n",
      "81\n",
      "84\n",
      "87\n",
      "90\n",
      "93\n",
      "96\n",
      "99\n",
      "All done!\n"
     ]
    }
   ],
   "source": [
    "for n in range(1, 100):\n",
    "    if n % 3 ==0: # x % y = remainder. Set == 0. \n",
    "        print (n)\n",
    "else:\n",
    "    print(\"All done!\") # Out of the for loop.\n",
    "    "
   ]
  },
  {
   "cell_type": "code",
   "execution_count": null,
   "metadata": {
    "collapsed": true
   },
   "outputs": [],
   "source": [
    "# Tryign out For loops on Dictionaries"
   ]
  },
  {
   "cell_type": "code",
   "execution_count": 51,
   "metadata": {
    "collapsed": false
   },
   "outputs": [
    {
     "name": "stdout",
     "output_type": "stream",
     "text": [
      "Sheryl Lee : Laura Palmer\n",
      "Kyle MacLachlan : Dale Cooper\n",
      "Sherilyn Fenn : Audrey Horne\n",
      "Lara Flynn Boyle : Donna Hayward\n"
     ]
    }
   ],
   "source": [
    "actors = {\n",
    "    \"Kyle MacLachlan\": \"Dale Cooper\",\n",
    "    \"Sheryl Lee\": \"Laura Palmer\",\n",
    "    \"Lara Flynn Boyle\": \"Donna Hayward\",\n",
    "    \"Sherilyn Fenn\" : \"Audrey Horne\"\n",
    "}\n",
    "\n",
    "for star in actors:\n",
    "    print(star + \" : \" + actors[star])"
   ]
  },
  {
   "cell_type": "code",
   "execution_count": 52,
   "metadata": {
    "collapsed": true
   },
   "outputs": [],
   "source": [
    "# While Loops"
   ]
  },
  {
   "cell_type": "code",
   "execution_count": 13,
   "metadata": {
    "collapsed": false,
    "scrolled": false
   },
   "outputs": [
    {
     "name": "stdout",
     "output_type": "stream",
     "text": [
      "0 miles from Leicester\n",
      "0 hour mark\n",
      "2 miles from Leicester\n",
      "1 hour mark\n",
      "4 miles from Leicester\n",
      "2 hour mark\n",
      "6 miles from Leicester\n",
      "3 hour mark\n",
      "8 miles from Leicester\n",
      "4 hour mark\n",
      "10 miles from Leicester\n",
      "5 hour mark\n",
      "12 miles from Leicester\n",
      "6 hour mark\n",
      "14 miles from Leicester\n",
      "7 hour mark\n",
      "16 miles from Leicester\n",
      "8 hour mark\n",
      "18 miles from Leicester\n",
      "9 hour mark\n",
      "20 miles from Leicester\n",
      "10 hour mark\n",
      "22 miles from Leicester\n",
      "11 hour mark\n",
      "24 miles from Leicester\n",
      "12 hour mark\n",
      "26 miles from Leicester\n",
      "13 hour mark\n",
      "28 miles from Leicester\n",
      "14 hour mark\n",
      "30 miles from Leicester\n",
      "15 hour mark\n",
      "32 miles from Leicester\n",
      "16 hour mark\n",
      "34 miles from Leicester\n",
      "17 hour mark\n",
      "36 miles from Leicester\n",
      "18 hour mark\n",
      "38 miles from Leicester\n",
      "19 hour mark\n",
      "40 miles from Leicester\n",
      "20 hour mark\n",
      "42 miles from Leicester\n",
      "21 hour mark\n",
      "44 miles from Leicester\n",
      "22 hour mark\n",
      "46 miles from Leicester\n",
      "23 hour mark\n",
      "48 miles from Leicester\n",
      "24 hour mark\n",
      "50 miles from Leicester\n",
      "25 hour mark\n",
      "52 miles from Leicester\n",
      "26 hour mark\n",
      "54 miles from Leicester\n",
      "27 hour mark\n",
      "56 miles from Leicester\n",
      "28 hour mark\n",
      "58 miles from Leicester\n",
      "29 hour mark\n",
      "60 miles from Leicester\n",
      "30 hour mark\n",
      "62 miles from Leicester\n",
      "31 hour mark\n",
      "64 miles from Leicester\n",
      "32 hour mark\n",
      "66 miles from Leicester\n",
      "33 hour mark\n",
      "68 miles from Leicester\n",
      "34 hour mark\n",
      "70 miles from Leicester\n",
      "35 hour mark\n",
      "72 miles from Leicester\n",
      "36 hour mark\n",
      "74 miles from Leicester\n",
      "37 hour mark\n",
      "76 miles from Leicester\n",
      "38 hour mark\n",
      "78 miles from Leicester\n",
      "39 hour mark\n",
      "80 miles from Leicester\n",
      "40 hour mark\n",
      "82 miles from Leicester\n",
      "41 hour mark\n",
      "84 miles from Leicester\n",
      "42 hour mark\n",
      "86 miles from Leicester\n",
      "43 hour mark\n",
      "88 miles from Leicester\n",
      "44 hour mark\n",
      "90 miles from Leicester\n",
      "45 hour mark\n",
      "92 miles from Leicester\n",
      "46 hour mark\n",
      "94 miles from Leicester\n",
      "47 hour mark\n",
      "96 miles from Leicester\n",
      "48 hour mark\n",
      "98 miles from Leicester\n",
      "49 hour mark\n",
      "100 miles from Leicester\n",
      "50 hour mark\n",
      "102 miles from Leicester\n",
      "51 hour mark\n",
      "Made it!\n",
      "102 miles to Leicester\n",
      "0 hour mark\n",
      "101 miles to Leicester\n",
      "1 hour mark\n",
      "100 miles to Leicester\n",
      "2 hour mark\n",
      "99 miles to Leicester\n",
      "3 hour mark\n",
      "98 miles to Leicester\n",
      "4 hour mark\n",
      "97 miles to Leicester\n",
      "5 hour mark\n",
      "96 miles to Leicester\n",
      "6 hour mark\n",
      "95 miles to Leicester\n",
      "7 hour mark\n",
      "94 miles to Leicester\n",
      "8 hour mark\n",
      "93 miles to Leicester\n",
      "9 hour mark\n",
      "92 miles to Leicester\n",
      "10 hour mark\n",
      "91 miles to Leicester\n",
      "11 hour mark\n",
      "90 miles to Leicester\n",
      "12 hour mark\n",
      "89 miles to Leicester\n",
      "13 hour mark\n",
      "88 miles to Leicester\n",
      "14 hour mark\n",
      "87 miles to Leicester\n",
      "15 hour mark\n",
      "86 miles to Leicester\n",
      "16 hour mark\n",
      "85 miles to Leicester\n",
      "17 hour mark\n",
      "84 miles to Leicester\n",
      "18 hour mark\n",
      "83 miles to Leicester\n",
      "19 hour mark\n",
      "82 miles to Leicester\n",
      "20 hour mark\n",
      "81 miles to Leicester\n",
      "21 hour mark\n",
      "80 miles to Leicester\n",
      "22 hour mark\n",
      "79 miles to Leicester\n",
      "23 hour mark\n",
      "78 miles to Leicester\n",
      "24 hour mark\n",
      "77 miles to Leicester\n",
      "25 hour mark\n",
      "76 miles to Leicester\n",
      "26 hour mark\n",
      "75 miles to Leicester\n",
      "27 hour mark\n",
      "74 miles to Leicester\n",
      "28 hour mark\n",
      "73 miles to Leicester\n",
      "29 hour mark\n",
      "72 miles to Leicester\n",
      "30 hour mark\n",
      "71 miles to Leicester\n",
      "31 hour mark\n",
      "70 miles to Leicester\n",
      "32 hour mark\n",
      "69 miles to Leicester\n",
      "33 hour mark\n",
      "68 miles to Leicester\n",
      "34 hour mark\n",
      "67 miles to Leicester\n",
      "35 hour mark\n",
      "66 miles to Leicester\n",
      "36 hour mark\n",
      "65 miles to Leicester\n",
      "37 hour mark\n",
      "64 miles to Leicester\n",
      "38 hour mark\n",
      "63 miles to Leicester\n",
      "39 hour mark\n",
      "62 miles to Leicester\n",
      "40 hour mark\n",
      "61 miles to Leicester\n",
      "41 hour mark\n",
      "60 miles to Leicester\n",
      "42 hour mark\n",
      "59 miles to Leicester\n",
      "43 hour mark\n",
      "58 miles to Leicester\n",
      "44 hour mark\n",
      "57 miles to Leicester\n",
      "45 hour mark\n",
      "56 miles to Leicester\n",
      "46 hour mark\n",
      "55 miles to Leicester\n",
      "47 hour mark\n",
      "54 miles to Leicester\n",
      "48 hour mark\n",
      "53 miles to Leicester\n",
      "49 hour mark\n",
      "52 miles to Leicester\n",
      "50 hour mark\n",
      "51 miles to Leicester\n",
      "51 hour mark\n",
      "50 miles to Leicester\n",
      "52 hour mark\n",
      "49 miles to Leicester\n",
      "53 hour mark\n",
      "48 miles to Leicester\n",
      "54 hour mark\n",
      "47 miles to Leicester\n",
      "55 hour mark\n",
      "46 miles to Leicester\n",
      "56 hour mark\n",
      "45 miles to Leicester\n",
      "57 hour mark\n",
      "44 miles to Leicester\n",
      "58 hour mark\n",
      "43 miles to Leicester\n",
      "59 hour mark\n",
      "42 miles to Leicester\n",
      "60 hour mark\n",
      "41 miles to Leicester\n",
      "61 hour mark\n",
      "40 miles to Leicester\n",
      "62 hour mark\n",
      "39 miles to Leicester\n",
      "63 hour mark\n",
      "38 miles to Leicester\n",
      "64 hour mark\n",
      "37 miles to Leicester\n",
      "65 hour mark\n",
      "36 miles to Leicester\n",
      "66 hour mark\n",
      "35 miles to Leicester\n",
      "67 hour mark\n",
      "34 miles to Leicester\n",
      "68 hour mark\n",
      "33 miles to Leicester\n",
      "69 hour mark\n",
      "32 miles to Leicester\n",
      "70 hour mark\n",
      "31 miles to Leicester\n",
      "71 hour mark\n",
      "30 miles to Leicester\n",
      "72 hour mark\n",
      "29 miles to Leicester\n",
      "73 hour mark\n",
      "28 miles to Leicester\n",
      "74 hour mark\n",
      "27 miles to Leicester\n",
      "75 hour mark\n",
      "26 miles to Leicester\n",
      "76 hour mark\n",
      "25 miles to Leicester\n",
      "77 hour mark\n",
      "24 miles to Leicester\n",
      "78 hour mark\n",
      "23 miles to Leicester\n",
      "79 hour mark\n",
      "22 miles to Leicester\n",
      "80 hour mark\n",
      "21 miles to Leicester\n",
      "81 hour mark\n",
      "20 miles to Leicester\n",
      "82 hour mark\n",
      "19 miles to Leicester\n",
      "83 hour mark\n",
      "18 miles to Leicester\n",
      "84 hour mark\n",
      "17 miles to Leicester\n",
      "85 hour mark\n",
      "16 miles to Leicester\n",
      "86 hour mark\n",
      "15 miles to Leicester\n",
      "87 hour mark\n",
      "14 miles to Leicester\n",
      "88 hour mark\n",
      "13 miles to Leicester\n",
      "89 hour mark\n",
      "12 miles to Leicester\n",
      "90 hour mark\n",
      "11 miles to Leicester\n",
      "91 hour mark\n",
      "10 miles to Leicester\n",
      "92 hour mark\n",
      "9 miles to Leicester\n",
      "93 hour mark\n",
      "8 miles to Leicester\n",
      "94 hour mark\n",
      "7 miles to Leicester\n",
      "95 hour mark\n",
      "6 miles to Leicester\n",
      "96 hour mark\n",
      "5 miles to Leicester\n",
      "97 hour mark\n",
      "4 miles to Leicester\n",
      "98 hour mark\n",
      "3 miles to Leicester\n",
      "99 hour mark\n",
      "2 miles to Leicester\n",
      "100 hour mark\n",
      "1 miles to Leicester\n",
      "101 hour mark\n",
      "0 miles to Leicester\n",
      "102 hour mark\n",
      "Made it!\n"
     ]
    }
   ],
   "source": [
    "#Prompt: \n",
    "    \n",
    "    # A slow, but determined, walker sets off from Leicester \n",
    "# to cover the 102 miles to London at 2 miles per hour. \n",
    "# Another walker sets off from London heading to Leicester \n",
    "# going at 1 mile per hour. \n",
    "# Where do they meet?\n",
    "\n",
    "# ON THE 34TH HOUR, THEY MEET 68 MILES FROM LEICESTER, 34 MILES FROM LONDON!!!!\n",
    "\n",
    "miles_walkedA = 0\n",
    "miles_walkedB = 102\n",
    "\n",
    "Atime = 0\n",
    "Btime = 0\n",
    "\n",
    "walkingA = True\n",
    "walkingB = True\n",
    "\n",
    "while walkingA:\n",
    "    if miles_walkedA <= 102:\n",
    "        print('{} miles from Leicester'.format(miles_walkedA))\n",
    "        print(str(Atime) + ' hour mark')\n",
    "        miles_walkedA += 2\n",
    "        Atime += 1\n",
    "    else:\n",
    "        walkingA = False\n",
    "else:\n",
    "    print('Made it!')\n",
    "    \n",
    "while walkingB:\n",
    "    if miles_walkedB >= 0:\n",
    "        print('{} miles to Leicester'.format(miles_walkedB))\n",
    "        print(str(Btime) + ' hour mark')\n",
    "        miles_walkedB -= 1\n",
    "        Btime += 1\n",
    "    else:\n",
    "        walkingB = False\n",
    "else:\n",
    "    print('Made it!')\n",
    "\n"
   ]
  },
  {
   "cell_type": "code",
   "execution_count": 64,
   "metadata": {
    "collapsed": true
   },
   "outputs": [],
   "source": [
    "# Phonebook example (Try and Except functions)"
   ]
  },
  {
   "cell_type": "code",
   "execution_count": 63,
   "metadata": {
    "collapsed": false
   },
   "outputs": [
    {
     "name": "stdout",
     "output_type": "stream",
     "text": [
      "There is no Jamie here\n"
     ]
    }
   ],
   "source": [
    "phone_book = {\n",
    "    \"Sarah Hughes\": \"01234 567890\",\n",
    "    \"Tim Taylor\": \"02345 678901\",\n",
    "    \"Sam Smith\":  \"03456 789012\"\n",
    "}\n",
    "\n",
    "try:\n",
    "    phone_book['Jamie Theakston']\n",
    "except KeyError:\n",
    "    print ('There is no Jamie here')"
   ]
  },
  {
   "cell_type": "code",
   "execution_count": 11,
   "metadata": {
    "collapsed": true
   },
   "outputs": [],
   "source": [
    "#Importing an even better dictionary tool"
   ]
  },
  {
   "cell_type": "code",
   "execution_count": 12,
   "metadata": {
    "collapsed": false
   },
   "outputs": [],
   "source": [
    "from collections import defaultdict"
   ]
  },
  {
   "cell_type": "code",
   "execution_count": 18,
   "metadata": {
    "collapsed": false
   },
   "outputs": [
    {
     "name": "stdout",
     "output_type": "stream",
     "text": [
      "<class 'collections.defaultdict'>\n"
     ]
    },
    {
     "data": {
      "text/plain": [
       "defaultdict(int, {1: 2, 2: 4, 3: 2, 4: 2, 5: 6, 6: 1, 7: 1, 8: 4, 9: 4})"
      ]
     },
     "execution_count": 18,
     "metadata": {},
     "output_type": "execute_result"
    }
   ],
   "source": [
    "number_list = [1,1,2,2,2,2,3,3,4,4,5,5,5,5,5,5,6,7,8,8,8,8,9,9,9,9,]\n",
    "count_dict = defaultdict(int)\n",
    "\n",
    "print(defaultdict)\n",
    "\n",
    "for i in number_list:\n",
    "    count_dict[i] += 1\n",
    "\n",
    "count_dict"
   ]
  },
  {
   "cell_type": "code",
   "execution_count": 22,
   "metadata": {
    "collapsed": true
   },
   "outputs": [],
   "source": [
    "# User defined functions"
   ]
  },
  {
   "cell_type": "code",
   "execution_count": 21,
   "metadata": {
    "collapsed": false
   },
   "outputs": [
    {
     "name": "stdout",
     "output_type": "stream",
     "text": [
      "Hello Jake\n",
      "7\n"
     ]
    }
   ],
   "source": [
    "def addition(a, b):\n",
    "    return(a + b)\n",
    "\n",
    "print(addition('Hello ', \"Jake\"))\n",
    "print(addition(2, 5))"
   ]
  },
  {
   "cell_type": "code",
   "execution_count": 23,
   "metadata": {
    "collapsed": true
   },
   "outputs": [],
   "source": [
    "# Bake a Cake"
   ]
  },
  {
   "cell_type": "code",
   "execution_count": 52,
   "metadata": {
    "collapsed": false
   },
   "outputs": [],
   "source": [
    "ingredients = {\n",
    "    \"butter\"  : (\"butter\", 118.3),\n",
    "    \"sugar\"   : (\"sugar\", 236.6),\n",
    "    \"vanilla\" : (\"vanilla\", 4.929),\n",
    "    \"eggs\"    : (\"eggs\", 2), # whole eggs\n",
    "    \"cocoa\"   : (\"cocoa\", 118.3),\n",
    "    \"flour\"   : (\"flour\", 118.3)\n",
    "}\n",
    "\n",
    "\n",
    "butter_soft = False\n",
    "bowl = []\n",
    "\n",
    "# Define all action steps needed\n",
    "\n",
    "def melt(this):\n",
    "    print('Melting {0}.'.format(this))\n",
    "\n",
    "def bake(this, temp):\n",
    "    print('Baking {0} at {1}.'.format(this, temp))\n",
    "\n",
    "def mix(this):\n",
    "    print('Mixing {0}.'.format(this))\n",
    "\n",
    "def add_to_bowl(ingredient):\n",
    "    print(\"Adding {0} to the bowl.\".format(ingredient))\n",
    "    return bowl.append(ingredient)\n",
    "    "
   ]
  },
  {
   "cell_type": "code",
   "execution_count": 53,
   "metadata": {
    "collapsed": false
   },
   "outputs": [
    {
     "name": "stdout",
     "output_type": "stream",
     "text": [
      "Melting butter.\n",
      "Adding butter to the bowl.\n",
      "Adding sugar to the bowl.\n",
      "Mixing ['butter', 'sugar'].\n",
      "Mixing ['butter', 'sugar'].\n",
      "Mixing ['butter', 'sugar'].\n",
      "Adding eggs to the bowl.\n",
      "Adding vanilla to the bowl.\n",
      "Mixing ['butter', 'sugar', 'eggs', 'vanilla'].\n",
      "Adding cocoa to the bowl.\n",
      "Adding flour to the bowl.\n",
      "Mixing ['butter', 'sugar', 'eggs', 'vanilla', 'cocoa', 'flour'].\n",
      "Mixing ['butter', 'sugar', 'eggs', 'vanilla', 'cocoa', 'flour'].\n",
      "Mixing ['butter', 'sugar', 'eggs', 'vanilla', 'cocoa', 'flour'].\n",
      "Mixing ['butter', 'sugar', 'eggs', 'vanilla', 'cocoa', 'flour'].\n",
      "Baking ['butter', 'sugar', 'eggs', 'vanilla', 'cocoa', 'flour'] at 350.\n",
      "Baking ['butter', 'sugar', 'eggs', 'vanilla', 'cocoa', 'flour'] at 350.\n",
      "Baking ['butter', 'sugar', 'eggs', 'vanilla', 'cocoa', 'flour'] at 350.\n",
      "Baking ['butter', 'sugar', 'eggs', 'vanilla', 'cocoa', 'flour'] at 350.\n",
      "Baking ['butter', 'sugar', 'eggs', 'vanilla', 'cocoa', 'flour'] at 350.\n",
      "Baking ['butter', 'sugar', 'eggs', 'vanilla', 'cocoa', 'flour'] at 350.\n",
      "Baking ['butter', 'sugar', 'eggs', 'vanilla', 'cocoa', 'flour'] at 350.\n",
      "Baking ['butter', 'sugar', 'eggs', 'vanilla', 'cocoa', 'flour'] at 350.\n",
      "Baking ['butter', 'sugar', 'eggs', 'vanilla', 'cocoa', 'flour'] at 350.\n",
      "Baking ['butter', 'sugar', 'eggs', 'vanilla', 'cocoa', 'flour'] at 350.\n",
      "Baking ['butter', 'sugar', 'eggs', 'vanilla', 'cocoa', 'flour'] at 350.\n",
      "Baking ['butter', 'sugar', 'eggs', 'vanilla', 'cocoa', 'flour'] at 350.\n",
      "Baking ['butter', 'sugar', 'eggs', 'vanilla', 'cocoa', 'flour'] at 350.\n",
      "Baking ['butter', 'sugar', 'eggs', 'vanilla', 'cocoa', 'flour'] at 350.\n",
      "Baking ['butter', 'sugar', 'eggs', 'vanilla', 'cocoa', 'flour'] at 350.\n",
      "Baking ['butter', 'sugar', 'eggs', 'vanilla', 'cocoa', 'flour'] at 350.\n",
      "Baking ['butter', 'sugar', 'eggs', 'vanilla', 'cocoa', 'flour'] at 350.\n",
      "Baking ['butter', 'sugar', 'eggs', 'vanilla', 'cocoa', 'flour'] at 350.\n",
      "Baking ['butter', 'sugar', 'eggs', 'vanilla', 'cocoa', 'flour'] at 350.\n",
      "Baking ['butter', 'sugar', 'eggs', 'vanilla', 'cocoa', 'flour'] at 350.\n",
      "Baking ['butter', 'sugar', 'eggs', 'vanilla', 'cocoa', 'flour'] at 350.\n",
      "Baking ['butter', 'sugar', 'eggs', 'vanilla', 'cocoa', 'flour'] at 350.\n",
      "Baking ['butter', 'sugar', 'eggs', 'vanilla', 'cocoa', 'flour'] at 350.\n",
      "Baking ['butter', 'sugar', 'eggs', 'vanilla', 'cocoa', 'flour'] at 350.\n",
      "Baking ['butter', 'sugar', 'eggs', 'vanilla', 'cocoa', 'flour'] at 350.\n",
      "Baking ['butter', 'sugar', 'eggs', 'vanilla', 'cocoa', 'flour'] at 350.\n",
      "Baking ['butter', 'sugar', 'eggs', 'vanilla', 'cocoa', 'flour'] at 350.\n",
      "Baking ['butter', 'sugar', 'eggs', 'vanilla', 'cocoa', 'flour'] at 350.\n",
      "Baking ['butter', 'sugar', 'eggs', 'vanilla', 'cocoa', 'flour'] at 350.\n",
      "Baking ['butter', 'sugar', 'eggs', 'vanilla', 'cocoa', 'flour'] at 350.\n",
      "Cake is done!\n"
     ]
    },
    {
     "data": {
      "text/plain": [
       "True"
      ]
     },
     "execution_count": 53,
     "metadata": {},
     "output_type": "execute_result"
    }
   ],
   "source": [
    "# Start the Algorithm ... Bake that cake\n",
    "\n",
    "#1. If butter is not soft, then melt butter.\n",
    "#2. Blend melted butter and sugar until mixture has creamy consistency, about 3 minutes\n",
    "#3. Add eggs and vanilla; stir\n",
    "#4. Add cocoa and flour; mix until well blended, about 4 minutes\n",
    "#5. Pour into greased round glass cake pan\n",
    "#6. Bake in oven 350 degrees for 30 minutes\n",
    "\n",
    "if butter_soft != True:\n",
    "    melt(ingredients['butter'][0])\n",
    "    butter_soft = True\n",
    "\n",
    "add_to_bowl(ingredients['butter'][0])\n",
    "add_to_bowl(ingredients['sugar'][0])\n",
    "\n",
    "mixing_time = 0\n",
    "mixture_creamy = False\n",
    "\n",
    "while mixture_creamy ==  False:\n",
    "    mix(bowl)\n",
    "    mixing_time += 1\n",
    "    if mixing_time == 3:\n",
    "        mixture_creamy = True\n",
    "\n",
    "add_to_bowl(ingredients['eggs'][0])\n",
    "add_to_bowl(ingredients['vanilla'][0])\n",
    "\n",
    "mix(bowl)\n",
    "\n",
    "add_to_bowl(ingredients['cocoa'][0])\n",
    "add_to_bowl(ingredients['flour'][0])\n",
    "\n",
    "mixing_time = 0\n",
    "mixture_well_blended = False\n",
    "\n",
    "while mixture_well_blended == False:\n",
    "    mix(bowl)\n",
    "    mixing_time += 1\n",
    "    if mixing_time == 4:\n",
    "        mixture_well_blended = True\n",
    "        \n",
    "# In cooking terms: pour contents of the bowl into a cake pan\n",
    "# In Python terms: redefine the bowl variable as cake_pan\n",
    "\n",
    "cake_pan = bowl\n",
    "\n",
    "cooking_temp = 350\n",
    "cooking_time = 30\n",
    "\n",
    "for minute in range(cooking_time):\n",
    "    bake(cake_pan, cooking_temp)\n",
    "\n",
    "print('Cake is done!')\n",
    "butter_soft\n",
    "    "
   ]
  },
  {
   "cell_type": "code",
   "execution_count": 57,
   "metadata": {
    "collapsed": true
   },
   "outputs": [],
   "source": [
    "# Fibonacci Sequence"
   ]
  },
  {
   "cell_type": "code",
   "execution_count": 75,
   "metadata": {
    "collapsed": false
   },
   "outputs": [],
   "source": [
    "def F(n):\n",
    "    if n < 2:\n",
    "        return n\n",
    "    else:\n",
    "        return F(n-2) + F(n-1)"
   ]
  },
  {
   "cell_type": "code",
   "execution_count": 76,
   "metadata": {
    "collapsed": false
   },
   "outputs": [
    {
     "data": {
      "text/plain": [
       "13"
      ]
     },
     "execution_count": 76,
     "metadata": {},
     "output_type": "execute_result"
    }
   ],
   "source": [
    "F(7)"
   ]
  },
  {
   "cell_type": "code",
   "execution_count": 68,
   "metadata": {
    "collapsed": true
   },
   "outputs": [],
   "source": [
    "# FizzBuzz Algo"
   ]
  },
  {
   "cell_type": "code",
   "execution_count": 67,
   "metadata": {
    "collapsed": false
   },
   "outputs": [
    {
     "name": "stdout",
     "output_type": "stream",
     "text": [
      "FizzBuzz\n",
      "1\n",
      "2\n",
      "Fizz\n",
      "4\n",
      "Buzz\n",
      "Fizz\n",
      "7\n",
      "8\n",
      "Fizz\n",
      "Buzz\n",
      "11\n",
      "Fizz\n",
      "13\n",
      "14\n",
      "FizzBuzz\n",
      "16\n",
      "17\n",
      "Fizz\n",
      "19\n",
      "Buzz\n",
      "Fizz\n",
      "22\n",
      "23\n",
      "Fizz\n",
      "Buzz\n",
      "26\n",
      "Fizz\n",
      "28\n",
      "29\n",
      "FizzBuzz\n",
      "31\n",
      "32\n",
      "Fizz\n",
      "34\n",
      "Buzz\n",
      "Fizz\n",
      "37\n",
      "38\n",
      "Fizz\n",
      "Buzz\n",
      "41\n",
      "Fizz\n",
      "43\n",
      "44\n",
      "FizzBuzz\n",
      "46\n",
      "47\n",
      "Fizz\n",
      "49\n",
      "Buzz\n",
      "Fizz\n",
      "52\n",
      "53\n",
      "Fizz\n",
      "Buzz\n",
      "56\n",
      "Fizz\n",
      "58\n",
      "59\n",
      "FizzBuzz\n",
      "61\n",
      "62\n",
      "Fizz\n",
      "64\n",
      "Buzz\n",
      "Fizz\n",
      "67\n",
      "68\n",
      "Fizz\n",
      "Buzz\n",
      "71\n",
      "Fizz\n",
      "73\n",
      "74\n",
      "FizzBuzz\n",
      "76\n",
      "77\n",
      "Fizz\n",
      "79\n",
      "Buzz\n",
      "Fizz\n",
      "82\n",
      "83\n",
      "Fizz\n",
      "Buzz\n",
      "86\n",
      "Fizz\n",
      "88\n",
      "89\n",
      "FizzBuzz\n",
      "91\n",
      "92\n",
      "Fizz\n",
      "94\n",
      "Buzz\n",
      "Fizz\n",
      "97\n",
      "98\n",
      "Fizz\n"
     ]
    }
   ],
   "source": [
    "for i in range(100):\n",
    "    if i % 3 == 0 and i % 5 == 0:\n",
    "        print('FizzBuzz')\n",
    "    elif i % 3 == 0:\n",
    "        print('Fizz')\n",
    "    elif i % 5 == 0:\n",
    "        print('Buzz')\n",
    "    else:\n",
    "        print(i)\n",
    "    "
   ]
  },
  {
   "cell_type": "code",
   "execution_count": 1,
   "metadata": {
    "collapsed": true
   },
   "outputs": [],
   "source": [
    "# Reading and writing files in Python"
   ]
  },
  {
   "cell_type": "code",
   "execution_count": 38,
   "metadata": {
    "collapsed": false
   },
   "outputs": [
    {
     "ename": "SyntaxError",
     "evalue": "invalid syntax (<ipython-input-38-179a0938a429>, line 6)",
     "output_type": "error",
     "traceback": [
      "\u001b[0;36m  File \u001b[0;32m\"<ipython-input-38-179a0938a429>\"\u001b[0;36m, line \u001b[0;32m6\u001b[0m\n\u001b[0;31m    except SyntaxError:\u001b[0m\n\u001b[0m         ^\u001b[0m\n\u001b[0;31mSyntaxError\u001b[0m\u001b[0;31m:\u001b[0m invalid syntax\n"
     ]
    }
   ],
   "source": [
    "# Help, cannot figure out why this won't work.\n",
    "#Not working...\n",
    "try:\n",
    "    with open('path/to/filename', 'rU') as inputFile:\n",
    "    \n",
    "except SyntaxError:\n",
    "    print('this is just example text')\n",
    "        \n",
    "# Working...    \n",
    "try:\n",
    "    phone_book['Jamie Theakston']\n",
    "except NameError:\n",
    "    print ('There is no Jamie here')\n",
    "    "
   ]
  },
  {
   "cell_type": "code",
   "execution_count": 44,
   "metadata": {
    "collapsed": true
   },
   "outputs": [],
   "source": [
    "# Reading in Data Files\n",
    "# .rsplit() is a power move. Remember this."
   ]
  },
  {
   "cell_type": "code",
   "execution_count": 28,
   "metadata": {
    "collapsed": false
   },
   "outputs": [
    {
     "name": "stdout",
     "output_type": "stream",
     "text": [
      "Africa 573918429 <class 'int'>\n",
      "Africa 327611385 <class 'int'>\n",
      "Asia 2345920129 <class 'int'>\n",
      "Asia 1720930281 <class 'int'>\n",
      "Oceania 14024049 <class 'int'>\n",
      "Oceania 23152802 <class 'int'>\n",
      "Europe 223529720 <class 'int'>\n",
      "Europe 481254575 <class 'int'>\n",
      "North America 136724785 <class 'int'>\n",
      "North America 368856952 <class 'int'>\n",
      "South America 140056209 <class 'int'>\n",
      "South America 239968353 <class 'int'>\n"
     ]
    }
   ],
   "source": [
    "# Setting up the data\n",
    "# NOTE: Jupyter does NOT support 'rU'[niversal], must use 'r'.\n",
    "# Error: Depreceate U mode .... ???\n",
    "\n",
    "with open(\"lecz-urban-rural-population-land-area-estimates_continent-90m.csv\", 'r') as inputFile: \n",
    "    header =  next(inputFile)\n",
    "    for line in inputFile:\n",
    "        line = line.rstrip().split(',')\n",
    "        line[5] = int(line[5])\n",
    "        if line[1] == 'Total National Population':\n",
    "            print(\"%s %s %s\" % (line[0], line[5], type(line[5])))\n",
    "            "
   ]
  },
  {
   "cell_type": "code",
   "execution_count": 29,
   "metadata": {
    "collapsed": false
   },
   "outputs": [
    {
     "name": "stdout",
     "output_type": "stream",
     "text": [
      "['Continent', 'ElevationZone', 'UrbanRuralDesignation', 'Population1990', 'Population2000', 'Population2010', 'Population2100', 'LandArea']\n",
      "Population2010\n",
      "Population2100\n",
      "LandArea\n"
     ]
    }
   ],
   "source": [
    "header = header.rstrip().split(',')\n",
    "print(header)\n",
    "print(header[5])\n",
    "print(header[6])\n",
    "print(header[7])"
   ]
  },
  {
   "cell_type": "code",
   "execution_count": 29,
   "metadata": {
    "collapsed": true
   },
   "outputs": [],
   "source": [
    "# Create dictionary where Continent is Key : Population is Value"
   ]
  },
  {
   "cell_type": "code",
   "execution_count": 17,
   "metadata": {
    "collapsed": false
   },
   "outputs": [
    {
     "data": {
      "text/plain": [
       "defaultdict(int,\n",
       "            {'Africa': 901529814,\n",
       "             'Asia': 4066850410,\n",
       "             'Europe': 704784295,\n",
       "             'North America': 505581737,\n",
       "             'Oceania': 37176851,\n",
       "             'South America': 380024562})"
      ]
     },
     "execution_count": 17,
     "metadata": {},
     "output_type": "execute_result"
    }
   ],
   "source": [
    "import collections\n",
    "from collections import defaultdict\n",
    "\n",
    "population_dict = collections.defaultdict(int) #name and create\n",
    "\n",
    "with open(\"lecz-urban-rural-population-land-area-estimates_continent-90m.csv\", 'r') as inputFile: \n",
    "    header =  next(inputFile)\n",
    "    \n",
    "    for line in inputFile:\n",
    "        line = line.rstrip().split(',')\n",
    "        line[5] = int(line[5])\n",
    "        if line[1] == 'Total National Population':\n",
    "            population_dict[line[0]] += line[5] # explain how this works?\n",
    "\n",
    "population_dict"
   ]
  },
  {
   "cell_type": "code",
   "execution_count": 4,
   "metadata": {
    "collapsed": false
   },
   "outputs": [],
   "source": [
    "with open('national_population.csv', 'w') as outputFile:\n",
    "    outputFile.write('continent,2010_population\\n')\n",
    "    for k, v in population_dict.items(): # in Python 2 .iteritmes --> .items for Python3\n",
    "        outputFile.write(k + ',' +str(v) + '\\n')"
   ]
  },
  {
   "cell_type": "code",
   "execution_count": 5,
   "metadata": {
    "collapsed": true
   },
   "outputs": [],
   "source": [
    "# Challenge 1. Calculate the pop change from 2010 to 2100."
   ]
  },
  {
   "cell_type": "code",
   "execution_count": 14,
   "metadata": {
    "collapsed": false
   },
   "outputs": [
    {
     "data": {
      "text/plain": [
       "defaultdict(int,\n",
       "            {'Africa': 2017855806,\n",
       "             'Asia': 5847484884,\n",
       "             'Europe': 442854296,\n",
       "             'North America': 756911497,\n",
       "             'Oceania': 45906518,\n",
       "             'South America': 628786756})"
      ]
     },
     "execution_count": 14,
     "metadata": {},
     "output_type": "execute_result"
    }
   ],
   "source": [
    "import collections\n",
    "from collections import defaultdict\n",
    "\n",
    "population2100_dict = collections.defaultdict(int) #name and create\n",
    "\n",
    "with open(\"lecz-urban-rural-population-land-area-estimates_continent-90m.csv\", 'r') as inputFile2: \n",
    "    header2 =  next(inputFile2)\n",
    "    \n",
    "    for line in inputFile2:\n",
    "        line = line.rstrip().split(',')\n",
    "        line[6] = int(line[6])\n",
    "        if line[1]  == 'Total National Population':\n",
    "            population2100_dict[line[0]] += line[6]\n",
    "\n",
    "population2100_dict"
   ]
  },
  {
   "cell_type": "code",
   "execution_count": 35,
   "metadata": {
    "collapsed": false
   },
   "outputs": [
    {
     "name": "stdout",
     "output_type": "stream",
     "text": [
      "[  261929999  -248762194 -1780634474    -8729667  -251329760 -1116325992]\n",
      "Africa is expected to grow the fastest by 2100, adding 261929999 new people \n"
     ]
    }
   ],
   "source": [
    "import numpy as np\n",
    "\n",
    "total_pops2010 = []\n",
    "total_pops2100 = []\n",
    "\n",
    "for i, j in population_dict.items():\n",
    "    total_pops2010.append(j)\n",
    "\n",
    "for k, l in population2100_dict.items():\n",
    "    total_pops2100.append(l)\n",
    "\n",
    "a = np.array(total_pops2010)\n",
    "b = np.array(total_pops2100)\n",
    "\n",
    "print(a - b)\n",
    "print('Africa is expected to grow the fastest by 2100, adding 261929999 new people ')"
   ]
  },
  {
   "cell_type": "code",
   "execution_count": 7,
   "metadata": {
    "collapsed": true
   },
   "outputs": [],
   "source": [
    "# Challenge 2. Calculate the pop density, who's most dense in 2010."
   ]
  },
  {
   "cell_type": "code",
   "execution_count": 30,
   "metadata": {
    "collapsed": false
   },
   "outputs": [
    {
     "data": {
      "text/plain": [
       "defaultdict(int,\n",
       "            {'Africa': 24320513,\n",
       "             'Asia': 40985150,\n",
       "             'Europe': 5472744,\n",
       "             'North America': 21475620,\n",
       "             'Oceania': 8492248,\n",
       "             'South America': 16017906})"
      ]
     },
     "execution_count": 30,
     "metadata": {},
     "output_type": "execute_result"
    }
   ],
   "source": [
    "import collections\n",
    "from collections import defaultdict\n",
    "\n",
    "population_density_dict = collections.defaultdict(int) #name and create\n",
    "\n",
    "with open(\"lecz-urban-rural-population-land-area-estimates_continent-90m.csv\", 'r') as inputFile3: \n",
    "    header2 =  next(inputFile3)\n",
    "    \n",
    "    for line in inputFile3:\n",
    "        line = line.rstrip().split(',')\n",
    "        line[7] = int(line[7])\n",
    "        if line[1]  == 'Total National Population':\n",
    "            population_density_dict[line[0]] += line[7]\n",
    "\n",
    "population_density_dict"
   ]
  },
  {
   "cell_type": "code",
   "execution_count": 41,
   "metadata": {
    "collapsed": false
   },
   "outputs": [
    {
     "name": "stdout",
     "output_type": "stream",
     "text": [
      "[  80.91997287   39.25524073  142.67325809    5.40569682   35.24515227\n",
      "   82.96929452]\n",
      "Europe will be most dense by 2100, at 142.67325809 people per square meter \n"
     ]
    }
   ],
   "source": [
    "import numpy as np\n",
    "land_area = []\n",
    "\n",
    "for i, j in population_density_dict.items():\n",
    "    land_area.append(j)\n",
    "\n",
    "dense = np.array(land_area)\n",
    "print(b / dense)\n",
    "max(b / dense)\n",
    "print('Europe will be most dense by 2100, at 142.67325809 people per square meter ')"
   ]
  },
  {
   "cell_type": "code",
   "execution_count": 6,
   "metadata": {
    "collapsed": true
   },
   "outputs": [],
   "source": [
    "# Import CSV and use csv.reader()"
   ]
  },
  {
   "cell_type": "code",
   "execution_count": 7,
   "metadata": {
    "collapsed": false
   },
   "outputs": [
    {
     "name": "stdout",
     "output_type": "stream",
     "text": [
      "['Continent', 'ElevationZone', 'UrbanRuralDesignation', 'Population1990', 'Population2000', 'Population2010', 'Population2100', 'LandArea']\n",
      "['Africa', 'Elevations > 20m or Non-Contiguous ', 'Rural', '333302081', '418265923', '530184094', '1249908321', '23749644']\n",
      "['Africa', 'Elevations > 20m or Non-Contiguous ', 'Urban', '157846329', '210381843', '266776037', '504662423', '204719']\n",
      "['Africa', 'Elevations Less Than or Equal To 10m ', 'Rural', '18167003', '22569516', '28154645', '76368900', '172460']\n",
      "['Africa', 'Elevations Less Than or Equal To 10m ', 'Urban', '22412955', '28679117', '36746774', '94042536', '13838']\n",
      "['Africa', 'Elevations Less Than or Equal To 12m ', 'Rural', '20569411', '25576481', '31957186', '85839163', '202456']\n",
      "['Africa', 'Elevations Less Than or Equal To 12m ', 'Urban', '25761403', '32968917', '42205337', '105920405', '16035']\n",
      "['Africa', 'Elevations Less Than or Equal To 1m', 'Rural', '3052584', '3891608', '4785451', '14152403', '21939']\n",
      "['Africa', 'Elevations Less Than or Equal To 1m', 'Urban', '4056678', '4791461', '5915752', '21137853', '2193']\n",
      "['Africa', 'Elevations Less Than or Equal To 20m ', 'Rural', '27791636', '34704704', '43734340', '118040942', '342694']\n",
      "['Africa', 'Elevations Less Than or Equal To 20m ', 'Urban', '37566072', '47749797', '60835348', '145244129', '23456']\n",
      "['Africa', 'Elevations Less Than or Equal To 3m', 'Rural', '6178557', '7763536', '9586584', '27430640', '46301']\n",
      "['Africa', 'Elevations Less Than or Equal To 3m', 'Urban', '7194770', '8762218', '11005850', '34775942', '4662']\n",
      "['Africa', 'Elevations Less Than or Equal To 5m', 'Rural', '9969005', '12408335', '15403231', '43327033', '84084']\n",
      "['Africa', 'Elevations Less Than or Equal To 5m', 'Urban', '11597788', '14488902', '18449258', '53508839', '7366']\n",
      "['Africa', 'Elevations Less Than or Equal To 7m', 'Rural', '13595903', '16884460', '21018235', '58101349', '121581']\n",
      "['Africa', 'Elevations Less Than or Equal To 7m', 'Urban', '16197359', '20564492', '26333878', '71409170', '10121']\n",
      "['Africa', 'Elevations Less Than or Equal To 9m', 'Rural', '16858764', '20937690', '26100880', '71204360', '156291']\n",
      "['Africa', 'Elevations Less Than or Equal To 9m', 'Urban', '20542430', '26255213', '33641605', '87324590', '12665']\n",
      "['Africa', 'Total National Population', 'Rural', '361093713', '452970623', '573918429', '1367949254', '24092338']\n",
      "['Africa', 'Total National Population', 'Urban', '195412402', '258131640', '327611385', '649906552', '228175']\n",
      "['Asia', 'Elevations > 20m or Non-Contiguous ', 'Rural', '1680481883', '1798416711', '1974005089', '2874557238', '37883607']\n",
      "['Asia', 'Elevations > 20m or Non-Contiguous ', 'Urban', '918668080', '1175247232', '1262609098', '1764942637', '1122788']\n",
      "['Asia', 'Elevations Less Than or Equal To 10m ', 'Rural', '191278674', '210541251', '234663295', '374695595', '969683']\n",
      "['Asia', 'Elevations Less Than or Equal To 10m ', 'Urban', '203398169', '252379433', '290492264', '377327872', '129278']\n",
      "['Asia', 'Elevations Less Than or Equal To 12m ', 'Rural', '219960928', '243052196', '271741911', '437367709', '1128770']\n",
      "['Asia', 'Elevations Less Than or Equal To 12m ', 'Urban', '233147526', '289429187', '333361953', '434901291', '149673']\n",
      "['Asia', 'Elevations Less Than or Equal To 1m', 'Rural', '18459117', '20808077', '22164683', '33476823', '109974']\n",
      "['Asia', 'Elevations Less Than or Equal To 1m', 'Urban', '15105001', '19858184', '21974625', '27586527', '12590']\n",
      "['Asia', 'Elevations Less Than or Equal To 20m ', 'Rural', '299462435', '331270619', '371915099', '603768417', '1764932']\n",
      "['Asia', 'Elevations Less Than or Equal To 20m ', 'Urban', '319318447', '397909472', '458321169', '604216625', '213823']\n",
      "['Asia', 'Elevations Less Than or Equal To 3m', 'Rural', '48168060', '53093971', '57758563', '85812360', '266138']\n",
      "['Asia', 'Elevations Less Than or Equal To 3m', 'Urban', '37555825', '48341898', '54512396', '68677562', '31423']\n",
      "['Asia', 'Elevations Less Than or Equal To 5m', 'Rural', '96000422', '104609114', '114983028', '175319939', '478303']\n",
      "['Asia', 'Elevations Less Than or Equal To 5m', 'Urban', '87109915', '109542006', '124916072', '158748008', '62383']\n",
      "['Asia', 'Elevations Less Than or Equal To 7m', 'Rural', '139082069', '152030350', '168232444', '262405032', '697177']\n",
      "['Asia', 'Elevations Less Than or Equal To 7m', 'Urban', '141792154', '176453451', '202546292', '260137398', '92410']\n",
      "['Asia', 'Elevations Less Than or Equal To 9m', 'Rural', '175412216', '192696616', '214358663', '340006165', '886176']\n",
      "['Asia', 'Elevations Less Than or Equal To 9m', 'Urban', '185617116', '230392535', '264967068', '343068584', '118075']\n",
      "['Asia', 'Total National Population', 'Rural', '1979944334', '2129687281', '2345920129', '3478325610', '39648539']\n",
      "['Asia', 'Total National Population', 'Urban', '1237986520', '1573156714', '1720930281', '2369159274', '1336611']\n",
      "['Oceania', 'Elevations > 20m or Non-Contiguous ', 'Rural', '8427284', '10127646', '12434027', '18743701', '8174117']\n",
      "['Oceania', 'Elevations Less Than or Equal To 10m ', 'Rural', '636248', '747250', '871503', '1012881', '126545']\n",
      "['Oceania', 'Elevations Less Than or Equal To 12m ', 'Rural', '762204', '897802', '1051538', '1218603', '155196']\n",
      "['Oceania', 'Elevations Less Than or Equal To 1m', 'Rural', '99919', '115905', '134633', '128828', '9146']\n",
      "['Oceania', 'Elevations Less Than or Equal To 20m ', 'Rural', '1134007', '1343603', '1590022', '1937585', '267534']\n",
      "['Oceania', 'Elevations Less Than or Equal To 3m', 'Rural', '164304', '191743', '222130', '233985', '22561']\n",
      "['Oceania', 'Elevations Less Than or Equal To 5m', 'Rural', '287793', '335546', '388501', '434716', '51897']\n",
      "['Oceania', 'Elevations Less Than or Equal To 7m', 'Rural', '428625', '500441', '580295', '662121', '83533']\n",
      "['Oceania', 'Elevations Less Than or Equal To 9m', 'Rural', '568706', '666939', '776354', '900481', '110497']\n",
      "['Oceania', 'Total National Population', 'Rural', '9561292', '11471250', '14024049', '20681609', '8441651']\n",
      "['Oceania', 'Elevations > 20m or Non-Contiguous ', 'Urban', '12547162', '14195786', '16912718', '18658175', '39148']\n",
      "['Oceania', 'Elevations Less Than or Equal To 10m ', 'Urban', '2200753', '2532995', '3003692', '3293517', '5852']\n",
      "['Oceania', 'Elevations Less Than or Equal To 12m ', 'Urban', '2729119', '3136967', '3721347', '4023841', '7139']\n",
      "['Oceania', 'Elevations Less Than or Equal To 1m', 'Urban', '92528', '105767', '125631', '136478', '227']\n",
      "['Oceania', 'Elevations Less Than or Equal To 20m ', 'Urban', '4589488', '5255982', '6240084', '6566734', '11449']\n",
      "['Oceania', 'Elevations Less Than or Equal To 3m', 'Urban', '310744', '361508', '430433', '499388', '881']\n",
      "['Oceania', 'Elevations Less Than or Equal To 5m', 'Urban', '752050', '874001', '1038190', '1179988', '2222']\n",
      "['Oceania', 'Elevations Less Than or Equal To 7m', 'Urban', '1342907', '1552001', '1841419', '2048884', '3708']\n",
      "['Oceania', 'Elevations Less Than or Equal To 9m', 'Urban', '1945861', '2240098', '2656137', '2937199', '5173']\n",
      "['Oceania', 'Total National Population', 'Urban', '17136649', '19451769', '23152802', '25224909', '50597']\n",
      "['Europe', 'Elevations > 20m or Non-Contiguous ', 'Rural', '163359246', '162706798', '208303075', '113649857', '4627707']\n",
      "['Europe', 'Elevations > 20m or Non-Contiguous ', 'Urban', '309270561', '316003549', '418732932', '265691431', '548471']\n",
      "['Europe', 'Elevations Less Than or Equal To 10m ', 'Rural', '8921599', '9344934', '10191711', '8029402', '129830']\n",
      "['Europe', 'Elevations Less Than or Equal To 10m ', 'Urban', '33776617', '34884603', '39019817', '32965986', '50897']\n",
      "['Europe', 'Elevations Less Than or Equal To 12m ', 'Rural', '9812906', '10282757', '11223256', '8779223', '146041']\n",
      "['Europe', 'Elevations Less Than or Equal To 12m ', 'Urban', '38167942', '39417882', '44201162', '37110048', '57906']\n",
      "['Europe', 'Elevations Less Than or Equal To 1m', 'Rural', '3742831', '3912040', '4227031', '3236008', '50401']\n",
      "['Europe', 'Elevations Less Than or Equal To 1m', 'Urban', '9954478', '10380836', '11579113', '9648341', '15628']\n",
      "['Europe', 'Elevations Less Than or Equal To 20m ', 'Rural', '13208952', '13851590', '15226199', '11697732', '212558']\n",
      "['Europe', 'Elevations Less Than or Equal To 20m ', 'Urban', '53512695', '55319289', '62521646', '51814850', '84008']\n",
      "['Europe', 'Elevations Less Than or Equal To 3m', 'Rural', '5224425', '5463529', '5929681', '4744031', '72134']\n",
      "['Europe', 'Elevations Less Than or Equal To 3m', 'Urban', '16234092', '16801906', '18647708', '15853153', '24784']\n",
      "['Europe', 'Elevations Less Than or Equal To 5m', 'Rural', '6411169', '6704539', '7286949', '5832084', '89853']\n",
      "['Europe', 'Elevations Less Than or Equal To 5m', 'Urban', '21755340', '22473128', '24902148', '21290248', '32735']\n",
      "['Europe', 'Elevations Less Than or Equal To 7m', 'Rural', '7515264', '7865709', '8568306', '6811908', '106158']\n",
      "['Europe', 'Elevations Less Than or Equal To 7m', 'Urban', '26861165', '27736249', '30779447', '26298853', '40204']\n",
      "['Europe', 'Elevations Less Than or Equal To 9m', 'Rural', '8463637', '8861773', '9662812', '7634002', '121681']\n",
      "['Europe', 'Elevations Less Than or Equal To 9m', 'Urban', '31613048', '32647909', '36469169', '30887023', '47442']\n",
      "['Europe', 'Total National Population', 'Rural', '176568570', '176558812', '223529720', '125348019', '4840266']\n",
      "['Europe', 'Total National Population', 'Urban', '362783257', '371322835', '481254575', '317506277', '632478']\n",
      "['North America', 'Elevations > 20m or Non-Contiguous ', 'Rural', '113350248', '128596426', '128023212', '255497778', '19520575']\n",
      "['North America', 'Elevations > 20m or Non-Contiguous ', 'Urban', '260535875', '296757222', '314603927', '402225848', '972417']\n",
      "['North America', 'Elevations Less Than or Equal To 10m ', 'Rural', '4510499', '5107953', '4527895', '8103077', '536562']\n",
      "['North America', 'Elevations Less Than or Equal To 10m ', 'Urban', '24575726', '27509478', '28219257', '46670306', '61651']\n",
      "['North America', 'Elevations Less Than or Equal To 12m ', 'Rural', '5388410', '6126378', '5451414', '9794501', '605670']\n",
      "['North America', 'Elevations Less Than or Equal To 12m ', 'Urban', '30668871', '34389588', '35375008', '58139996', '76003']\n",
      "['North America', 'Elevations Less Than or Equal To 1m', 'Rural', '592705', '666803', '610997', '1027386', '171365']\n",
      "['North America', 'Elevations Less Than or Equal To 1m', 'Urban', '1566679', '1730214', '1814077', '2382101', '5968']\n",
      "['North America', 'Elevations Less Than or Equal To 20m ', 'Rural', '8380426', '9640179', '8701571', '15548820', '867403']\n",
      "['North America', 'Elevations Less Than or Equal To 20m ', 'Urban', '47379912', '52995004', '54253029', '83639047', '115225']\n",
      "['North America', 'Elevations Less Than or Equal To 3m', 'Rural', '1183749', '1344383', '1233602', '2012079', '252729']\n",
      "['North America', 'Elevations Less Than or Equal To 3m', 'Urban', '4024295', '4406582', '4551369', '6066943', '12827']\n",
      "['North America', 'Elevations Less Than or Equal To 5m', 'Rural', '2078406', '2337609', '2079421', '3593976', '341640']\n",
      "['North America', 'Elevations Less Than or Equal To 5m', 'Urban', '7848219', '8590398', '8771636', '11828205', '22829']\n",
      "['North America', 'Elevations Less Than or Equal To 7m', 'Rural', '3088571', '3465549', '3050583', '5396471', '425342']\n",
      "['North America', 'Elevations Less Than or Equal To 7m', 'Urban', '13479682', '14889220', '15145037', '21342474', '36321']\n",
      "['North America', 'Elevations Less Than or Equal To 9m', 'Rural', '4038490', '4562798', '4039761', '7143160', '499762']\n",
      "['North America', 'Elevations Less Than or Equal To 9m', 'Urban', '20649659', '23006285', '23449955', '38174996', '51825']\n",
      "['North America', 'Total National Population', 'Rural', '121730674', '138236608', '136724785', '271046607', '20387978']\n",
      "['North America', 'Total National Population', 'Urban', '307915785', '349752222', '368856952', '485864890', '1087642']\n",
      "['South America', 'Elevations > 20m or Non-Contiguous ', 'Rural', '105821441', '119567258', '131717443', '223382699', '15247746']\n",
      "['South America', 'Elevations > 20m or Non-Contiguous ', 'Urban', '146797669', '176550823', '203339934', '329625178', '270241']\n",
      "['South America', 'Elevations Less Than or Equal To 10m ', 'Rural', '3707829', '4283574', '4703764', '8943181', '228599']\n",
      "['South America', 'Elevations Less Than or Equal To 10m ', 'Urban', '14465697', '17036372', '19621238', '32574367', '19343']\n",
      "['South America', 'Elevations Less Than or Equal To 12m ', 'Rural', '4291797', '4967927', '5459057', '10353931', '266951']\n",
      "['South America', 'Elevations Less Than or Equal To 12m ', 'Urban', '17264014', '20333114', '23397554', '38844410', '22783']\n",
      "['South America', 'Elevations Less Than or Equal To 1m', 'Rural', '473008', '561960', '619126', '1091701', '20582']\n",
      "['South America', 'Elevations Less Than or Equal To 1m', 'Urban', '709558', '868060', '1009758', '1591369', '1159']\n",
      "['South America', 'Elevations Less Than or Equal To 20m ', 'Rural', '6529092', '7584065', '8338764', '15819940', '452502']\n",
      "['South America', 'Elevations Less Than or Equal To 20m ', 'Urban', '27065733', '31912544', '36628423', '59958936', '34982']\n",
      "['South America', 'Elevations Less Than or Equal To 3m', 'Rural', '943950', '1106559', '1214846', '2218252', '55898']\n",
      "['South America', 'Elevations Less Than or Equal To 3m', 'Urban', '2117574', '2538559', '2938229', '4406100', '3758']\n",
      "['South America', 'Elevations Less Than or Equal To 5m', 'Rural', '1804718', '2093408', '2291934', '4244576', '110866']\n",
      "['South America', 'Elevations Less Than or Equal To 5m', 'Urban', '5101423', '6089933', '7038516', '11400038', '8354']\n",
      "['South America', 'Elevations Less Than or Equal To 7m', 'Rural', '2680636', '3089887', '3387405', '6416774', '165073']\n",
      "['South America', 'Elevations Less Than or Equal To 7m', 'Urban', '9357959', '11074365', '12771388', '21107053', '13236']\n",
      "['South America', 'Elevations Less Than or Equal To 9m', 'Rural', '3373239', '3888725', '4267061', '8057467', '208002']\n",
      "['South America', 'Elevations Less Than or Equal To 9m', 'Urban', '12822897', '15110534', '17402616', '28930098', '17430']\n",
      "['South America', 'Total National Population', 'Rural', '112350531', '127151325', '140056209', '239202641', '15711683']\n",
      "['South America', 'Total National Population', 'Urban', '173863402', '208463363', '239968353', '389584115', '306223']\n"
     ]
    }
   ],
   "source": [
    "import csv\n",
    "\n",
    "with open('lecz-urban-rural-population-land-area-estimates_continent-90m.csv', 'r') as inputFile:\n",
    "    inputReader = csv.reader(inputFile)\n",
    "    for line in inputReader:\n",
    "        print(line)"
   ]
  },
  {
   "cell_type": "code",
   "execution_count": 9,
   "metadata": {
    "collapsed": true
   },
   "outputs": [],
   "source": [
    "# Playing with Pandas!\n",
    "\n",
    "import pandas as pd"
   ]
  },
  {
   "cell_type": "code",
   "execution_count": 10,
   "metadata": {
    "collapsed": false
   },
   "outputs": [
    {
     "data": {
      "text/plain": [
       "0             Africa\n",
       "1             Africa\n",
       "2             Africa\n",
       "3             Africa\n",
       "4             Africa\n",
       "5             Africa\n",
       "6             Africa\n",
       "7             Africa\n",
       "8             Africa\n",
       "9             Africa\n",
       "10            Africa\n",
       "11            Africa\n",
       "12            Africa\n",
       "13            Africa\n",
       "14            Africa\n",
       "15            Africa\n",
       "16            Africa\n",
       "17            Africa\n",
       "18            Africa\n",
       "19            Africa\n",
       "20              Asia\n",
       "21              Asia\n",
       "22              Asia\n",
       "23              Asia\n",
       "24              Asia\n",
       "25              Asia\n",
       "26              Asia\n",
       "27              Asia\n",
       "28              Asia\n",
       "29              Asia\n",
       "           ...      \n",
       "90     North America\n",
       "91     North America\n",
       "92     North America\n",
       "93     North America\n",
       "94     North America\n",
       "95     North America\n",
       "96     North America\n",
       "97     North America\n",
       "98     North America\n",
       "99     North America\n",
       "100    South America\n",
       "101    South America\n",
       "102    South America\n",
       "103    South America\n",
       "104    South America\n",
       "105    South America\n",
       "106    South America\n",
       "107    South America\n",
       "108    South America\n",
       "109    South America\n",
       "110    South America\n",
       "111    South America\n",
       "112    South America\n",
       "113    South America\n",
       "114    South America\n",
       "115    South America\n",
       "116    South America\n",
       "117    South America\n",
       "118    South America\n",
       "119    South America\n",
       "Name: Continent, dtype: object"
      ]
     },
     "execution_count": 10,
     "metadata": {},
     "output_type": "execute_result"
    }
   ],
   "source": [
    "input_datafram = pd.read_csv('lecz-urban-rural-population-land-area-estimates_continent-90m.csv')\n",
    "input_datafram['Continent']"
   ]
  },
  {
   "cell_type": "code",
   "execution_count": 12,
   "metadata": {
    "collapsed": false
   },
   "outputs": [
    {
     "data": {
      "text/html": [
       "<div>\n",
       "<table border=\"1\" class=\"dataframe\">\n",
       "  <thead>\n",
       "    <tr style=\"text-align: right;\">\n",
       "      <th></th>\n",
       "      <th>Continent</th>\n",
       "      <th>ElevationZone</th>\n",
       "      <th>UrbanRuralDesignation</th>\n",
       "      <th>Population1990</th>\n",
       "      <th>Population2000</th>\n",
       "      <th>Population2010</th>\n",
       "      <th>Population2100</th>\n",
       "      <th>LandArea</th>\n",
       "    </tr>\n",
       "  </thead>\n",
       "  <tbody>\n",
       "    <tr>\n",
       "      <th>0</th>\n",
       "      <td>Africa</td>\n",
       "      <td>Elevations &gt; 20m or Non-Contiguous</td>\n",
       "      <td>Rural</td>\n",
       "      <td>333302081</td>\n",
       "      <td>418265923</td>\n",
       "      <td>530184094</td>\n",
       "      <td>1249908321</td>\n",
       "      <td>23749644</td>\n",
       "    </tr>\n",
       "    <tr>\n",
       "      <th>1</th>\n",
       "      <td>Africa</td>\n",
       "      <td>Elevations &gt; 20m or Non-Contiguous</td>\n",
       "      <td>Urban</td>\n",
       "      <td>157846329</td>\n",
       "      <td>210381843</td>\n",
       "      <td>266776037</td>\n",
       "      <td>504662423</td>\n",
       "      <td>204719</td>\n",
       "    </tr>\n",
       "    <tr>\n",
       "      <th>2</th>\n",
       "      <td>Africa</td>\n",
       "      <td>Elevations Less Than or Equal To 10m</td>\n",
       "      <td>Rural</td>\n",
       "      <td>18167003</td>\n",
       "      <td>22569516</td>\n",
       "      <td>28154645</td>\n",
       "      <td>76368900</td>\n",
       "      <td>172460</td>\n",
       "    </tr>\n",
       "    <tr>\n",
       "      <th>3</th>\n",
       "      <td>Africa</td>\n",
       "      <td>Elevations Less Than or Equal To 10m</td>\n",
       "      <td>Urban</td>\n",
       "      <td>22412955</td>\n",
       "      <td>28679117</td>\n",
       "      <td>36746774</td>\n",
       "      <td>94042536</td>\n",
       "      <td>13838</td>\n",
       "    </tr>\n",
       "    <tr>\n",
       "      <th>4</th>\n",
       "      <td>Africa</td>\n",
       "      <td>Elevations Less Than or Equal To 12m</td>\n",
       "      <td>Rural</td>\n",
       "      <td>20569411</td>\n",
       "      <td>25576481</td>\n",
       "      <td>31957186</td>\n",
       "      <td>85839163</td>\n",
       "      <td>202456</td>\n",
       "    </tr>\n",
       "  </tbody>\n",
       "</table>\n",
       "</div>"
      ],
      "text/plain": [
       "  Continent                          ElevationZone UrbanRuralDesignation  \\\n",
       "0    Africa    Elevations > 20m or Non-Contiguous                  Rural   \n",
       "1    Africa    Elevations > 20m or Non-Contiguous                  Urban   \n",
       "2    Africa  Elevations Less Than or Equal To 10m                  Rural   \n",
       "3    Africa  Elevations Less Than or Equal To 10m                  Urban   \n",
       "4    Africa  Elevations Less Than or Equal To 12m                  Rural   \n",
       "\n",
       "   Population1990  Population2000  Population2010  Population2100  LandArea  \n",
       "0       333302081       418265923       530184094      1249908321  23749644  \n",
       "1       157846329       210381843       266776037       504662423    204719  \n",
       "2        18167003        22569516        28154645        76368900    172460  \n",
       "3        22412955        28679117        36746774        94042536     13838  \n",
       "4        20569411        25576481        31957186        85839163    202456  "
      ]
     },
     "execution_count": 12,
     "metadata": {},
     "output_type": "execute_result"
    }
   ],
   "source": [
    "input_datafram.head()"
   ]
  },
  {
   "cell_type": "code",
   "execution_count": null,
   "metadata": {
    "collapsed": true
   },
   "outputs": [],
   "source": []
  }
 ],
 "metadata": {
  "anaconda-cloud": {},
  "kernelspec": {
   "display_name": "Python [Root]",
   "language": "python",
   "name": "Python [Root]"
  },
  "language_info": {
   "codemirror_mode": {
    "name": "ipython",
    "version": 3
   },
   "file_extension": ".py",
   "mimetype": "text/x-python",
   "name": "python",
   "nbconvert_exporter": "python",
   "pygments_lexer": "ipython3",
   "version": "3.5.2"
  }
 },
 "nbformat": 4,
 "nbformat_minor": 0
}
